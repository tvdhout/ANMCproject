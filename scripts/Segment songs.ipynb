{
 "cells": [
  {
   "cell_type": "code",
   "execution_count": 1,
   "metadata": {},
   "outputs": [],
   "source": [
    "from pydub import AudioSegment # need pip install pydub\n",
    "import librosa # need pip install librosa\n",
    "\n",
    "import os\n",
    "import glob\n",
    "\n",
    "import numpy as np\n",
    "import pandas as pd\n",
    "import re"
   ]
  },
  {
   "cell_type": "markdown",
   "metadata": {},
   "source": [
    "### Preprocessing mp3 file(name)s"
   ]
  },
  {
   "cell_type": "code",
   "execution_count": 2,
   "metadata": {},
   "outputs": [],
   "source": [
    "#move all files from ../Muziek and its subdirectories to one directory with all songs, ../Music\n",
    "#My file structure for this to work:\n",
    "'''\n",
    "Project--|scripts -- this notebook\n",
    "         |Muziek -- with subfolders as downloaded from drive (can be removed after executing commented code in this block)\n",
    "         |Music -- empty (at this point)\n",
    "         |annotations -- empty (at this point)\n",
    "         |Annotations.csv\n",
    "''';\n",
    "\n",
    "\n",
    "#for filename in glob.glob('../Muziek/**/*.mp3', recursive=True):\n",
    "#    os.rename(filename, '../Music/'+filename.split('/')[-1])\n"
   ]
  },
  {
   "cell_type": "code",
   "execution_count": 3,
   "metadata": {},
   "outputs": [],
   "source": [
    "path = '../Music/'\n",
    "#remove (things in brackets) and non-alphanumerics (except .mp3 for the extension)\n",
    "#E.g. '01-1 Home_s Nice's U.S.S.R. (Remastered).mp3' -> '011HomesNicesUSSR.mp3'\n",
    "[os.rename(path+f, path+re.sub('\\(.*\\)|(?:\\.(?!mp3))|[^\\w.]|_','',f)) for f in os.listdir(path)]\n",
    "# '011HomesNicesUSSR.mp3' -> 'HomesNicesUSSR.mp3'\n",
    "[os.rename(path+f, path+re.sub('^\\d+\\s*','',f)) for f in os.listdir(path)];"
   ]
  },
  {
   "cell_type": "markdown",
   "metadata": {},
   "source": [
    "#### Trim silence"
   ]
  },
  {
   "cell_type": "code",
   "execution_count": 4,
   "metadata": {},
   "outputs": [],
   "source": [
    "path = '../Music/'\n",
    "for i,file in enumerate(os.listdir(path)): #for each song in the specified path:\n",
    "    new_path = '../Trimmed/'\n",
    "    if file[:-4]+'.wav' not in os.listdir(new_path): #if it not yet in the trimmed directory:\n",
    "        filename = new_path+file[:-4]+'.wav'\n",
    "        song,sr = librosa.load(path+file) # load song with librosa\n",
    "        trimmed,_ = librosa.effects.trim(song) # trim silence from song\n",
    "        librosa.output.write_wav(filename, trimmed, sr) # save trimmed song to trimmed directory"
   ]
  },
  {
   "cell_type": "code",
   "execution_count": 5,
   "metadata": {},
   "outputs": [
    {
     "name": "stdout",
     "output_type": "stream",
     "text": [
      "Number of songs in dataset: 260\n"
     ]
    }
   ],
   "source": [
    "print(\"Number of songs in dataset: {}\".format(len(os.listdir('../Trimmed/'))))"
   ]
  },
  {
   "cell_type": "markdown",
   "metadata": {},
   "source": [
    "### Preprocessing annotation data"
   ]
  },
  {
   "cell_type": "code",
   "execution_count": 6,
   "metadata": {},
   "outputs": [],
   "source": [
    "#load segment csv\n",
    "annotations = pd.read_excel('../final_annotations.xlsx', sep=';', names=['Artist', 'Album', 'Song', 'Oldstart', 'Oldstop', 'Label', 'Start', 'Stop'])"
   ]
  },
  {
   "cell_type": "code",
   "execution_count": 7,
   "metadata": {},
   "outputs": [],
   "source": [
    "annotations = annotations.drop(['Oldstart', 'Oldstop'], axis=1).dropna(how='any')"
   ]
  },
  {
   "cell_type": "code",
   "execution_count": 8,
   "metadata": {},
   "outputs": [
    {
     "data": {
      "text/html": [
       "<div>\n",
       "<style scoped>\n",
       "    .dataframe tbody tr th:only-of-type {\n",
       "        vertical-align: middle;\n",
       "    }\n",
       "\n",
       "    .dataframe tbody tr th {\n",
       "        vertical-align: top;\n",
       "    }\n",
       "\n",
       "    .dataframe thead th {\n",
       "        text-align: right;\n",
       "    }\n",
       "</style>\n",
       "<table border=\"1\" class=\"dataframe\">\n",
       "  <thead>\n",
       "    <tr style=\"text-align: right;\">\n",
       "      <th></th>\n",
       "      <th>Artist</th>\n",
       "      <th>Album</th>\n",
       "      <th>Song</th>\n",
       "      <th>Label</th>\n",
       "      <th>Start</th>\n",
       "      <th>Stop</th>\n",
       "    </tr>\n",
       "  </thead>\n",
       "  <tbody>\n",
       "    <tr>\n",
       "      <th>0</th>\n",
       "      <td>Carole King</td>\n",
       "      <td>Tapestry</td>\n",
       "      <td>01 I Feel The Earth Move</td>\n",
       "      <td>refrain</td>\n",
       "      <td>8.224</td>\n",
       "      <td>23.996</td>\n",
       "    </tr>\n",
       "    <tr>\n",
       "      <th>1</th>\n",
       "      <td>Carole King</td>\n",
       "      <td>Tapestry</td>\n",
       "      <td>01 I Feel The Earth Move</td>\n",
       "      <td>refrain</td>\n",
       "      <td>40.512</td>\n",
       "      <td>60.482</td>\n",
       "    </tr>\n",
       "    <tr>\n",
       "      <th>2</th>\n",
       "      <td>Carole King</td>\n",
       "      <td>Tapestry</td>\n",
       "      <td>01 I Feel The Earth Move</td>\n",
       "      <td>refrain</td>\n",
       "      <td>116.568</td>\n",
       "      <td>148.312</td>\n",
       "    </tr>\n",
       "    <tr>\n",
       "      <th>3</th>\n",
       "      <td>Carole King</td>\n",
       "      <td>Tapestry</td>\n",
       "      <td>02 So Far Away</td>\n",
       "      <td>refrain</td>\n",
       "      <td>13.045</td>\n",
       "      <td>33.318</td>\n",
       "    </tr>\n",
       "    <tr>\n",
       "      <th>4</th>\n",
       "      <td>Carole King</td>\n",
       "      <td>Tapestry</td>\n",
       "      <td>02 So Far Away</td>\n",
       "      <td>refrain</td>\n",
       "      <td>33.318</td>\n",
       "      <td>60.226</td>\n",
       "    </tr>\n",
       "    <tr>\n",
       "      <th>5</th>\n",
       "      <td>Carole King</td>\n",
       "      <td>Tapestry</td>\n",
       "      <td>02 So Far Away</td>\n",
       "      <td>refrain</td>\n",
       "      <td>87.025</td>\n",
       "      <td>120.244</td>\n",
       "    </tr>\n",
       "    <tr>\n",
       "      <th>6</th>\n",
       "      <td>Carole King</td>\n",
       "      <td>Tapestry</td>\n",
       "      <td>02 So Far Away</td>\n",
       "      <td>refrain</td>\n",
       "      <td>150.159</td>\n",
       "      <td>183.969</td>\n",
       "    </tr>\n",
       "    <tr>\n",
       "      <th>7</th>\n",
       "      <td>Carole King</td>\n",
       "      <td>Tapestry</td>\n",
       "      <td>03 It's Too Late</td>\n",
       "      <td>verse</td>\n",
       "      <td>0.000</td>\n",
       "      <td>28.736</td>\n",
       "    </tr>\n",
       "    <tr>\n",
       "      <th>8</th>\n",
       "      <td>Carole King</td>\n",
       "      <td>Tapestry</td>\n",
       "      <td>03 It's Too Late</td>\n",
       "      <td>refrain</td>\n",
       "      <td>28.736</td>\n",
       "      <td>47.388</td>\n",
       "    </tr>\n",
       "    <tr>\n",
       "      <th>9</th>\n",
       "      <td>Carole King</td>\n",
       "      <td>Tapestry</td>\n",
       "      <td>03 It's Too Late</td>\n",
       "      <td>verse</td>\n",
       "      <td>47.388</td>\n",
       "      <td>75.473</td>\n",
       "    </tr>\n",
       "  </tbody>\n",
       "</table>\n",
       "</div>"
      ],
      "text/plain": [
       "        Artist     Album                      Song    Label    Start     Stop\n",
       "0  Carole King  Tapestry  01 I Feel The Earth Move  refrain    8.224   23.996\n",
       "1  Carole King  Tapestry  01 I Feel The Earth Move  refrain   40.512   60.482\n",
       "2  Carole King  Tapestry  01 I Feel The Earth Move  refrain  116.568  148.312\n",
       "3  Carole King  Tapestry            02 So Far Away  refrain   13.045   33.318\n",
       "4  Carole King  Tapestry            02 So Far Away  refrain   33.318   60.226\n",
       "5  Carole King  Tapestry            02 So Far Away  refrain   87.025  120.244\n",
       "6  Carole King  Tapestry            02 So Far Away  refrain  150.159  183.969\n",
       "7  Carole King  Tapestry          03 It's Too Late    verse    0.000   28.736\n",
       "8  Carole King  Tapestry          03 It's Too Late  refrain   28.736   47.388\n",
       "9  Carole King  Tapestry          03 It's Too Late    verse   47.388   75.473"
      ]
     },
     "execution_count": 8,
     "metadata": {},
     "output_type": "execute_result"
    }
   ],
   "source": [
    "annotations.head(10)"
   ]
  },
  {
   "cell_type": "code",
   "execution_count": 9,
   "metadata": {},
   "outputs": [],
   "source": [
    "#convert timestamps to milisec\n",
    "annotations[['Start', 'Stop']] = annotations[['Start', 'Stop']].applymap(lambda x: int(x*1000))\n",
    "\n",
    "#remove (thing in brackets) and _ and ' from song names in annotation data\n",
    "annotations.Song = annotations.Song.str.replace('\\(.*\\)|\\W|_', '', regex=True)\n",
    "annotations.Song = annotations.Song.str.replace('^\\d+\\s*', '', regex=True)"
   ]
  },
  {
   "cell_type": "code",
   "execution_count": 10,
   "metadata": {},
   "outputs": [
    {
     "name": "stdout",
     "output_type": "stream",
     "text": [
      "Number of annotations before preprocessing: 1480\n",
      "Number of annotations containing verse/chorus: 1480\n"
     ]
    }
   ],
   "source": [
    "print(\"Number of annotations before preprocessing: {}\".format(len(annotations)))\n",
    "\n",
    "#Make labels with verse and chorus uniform\n",
    "annotations.loc[annotations['Label'].str.contains('verse'), 'Label'] = 'verse'\n",
    "annotations.loc[annotations['Label'].str.contains('chorus'), 'Label'] = 'chorus'\n",
    "annotations.loc[annotations['Label'].str.contains('refrain'), 'Label'] = 'chorus'\n",
    "\n",
    "#Remove non-relevant labels (should not be needed in the final annotation file)\n",
    "annotations = annotations[annotations.Label.str.contains('chorus|verse', regex=True)]\n",
    "\n",
    "print(\"Number of annotations containing verse/chorus: {}\".format(len(annotations)))"
   ]
  },
  {
   "cell_type": "code",
   "execution_count": 11,
   "metadata": {},
   "outputs": [
    {
     "name": "stdout",
     "output_type": "stream",
     "text": [
      "Number of songs containing both verse/chorus: 156\n"
     ]
    }
   ],
   "source": [
    "#remove songs that do not have both a chorus and a verse:\n",
    "for song in annotations.Song.unique():\n",
    "    labels = annotations[annotations.Song==song].Label.unique() #all labels in song\n",
    "    if 'chorus' not in labels or 'verse' not in labels: #if chorus or verse missing:\n",
    "        annotations = annotations.loc[annotations.Song!=song] #remove song\n",
    "        \n",
    "print(\"Number of songs containing both verse/chorus: {}\".format(len(annotations.Song.unique())))"
   ]
  },
  {
   "cell_type": "code",
   "execution_count": 12,
   "metadata": {
    "scrolled": false
   },
   "outputs": [
    {
     "data": {
      "text/html": [
       "<div>\n",
       "<style scoped>\n",
       "    .dataframe tbody tr th:only-of-type {\n",
       "        vertical-align: middle;\n",
       "    }\n",
       "\n",
       "    .dataframe tbody tr th {\n",
       "        vertical-align: top;\n",
       "    }\n",
       "\n",
       "    .dataframe thead th {\n",
       "        text-align: right;\n",
       "    }\n",
       "</style>\n",
       "<table border=\"1\" class=\"dataframe\">\n",
       "  <thead>\n",
       "    <tr style=\"text-align: right;\">\n",
       "      <th></th>\n",
       "      <th>Artist</th>\n",
       "      <th>Album</th>\n",
       "      <th>Song</th>\n",
       "      <th>Label</th>\n",
       "      <th>Start</th>\n",
       "      <th>Stop</th>\n",
       "    </tr>\n",
       "  </thead>\n",
       "  <tbody>\n",
       "    <tr>\n",
       "      <th>7</th>\n",
       "      <td>Carole King</td>\n",
       "      <td>Tapestry</td>\n",
       "      <td>ItsTooLate</td>\n",
       "      <td>verse</td>\n",
       "      <td>0</td>\n",
       "      <td>28735</td>\n",
       "    </tr>\n",
       "    <tr>\n",
       "      <th>8</th>\n",
       "      <td>Carole King</td>\n",
       "      <td>Tapestry</td>\n",
       "      <td>ItsTooLate</td>\n",
       "      <td>chorus</td>\n",
       "      <td>28735</td>\n",
       "      <td>47388</td>\n",
       "    </tr>\n",
       "    <tr>\n",
       "      <th>9</th>\n",
       "      <td>Carole King</td>\n",
       "      <td>Tapestry</td>\n",
       "      <td>ItsTooLate</td>\n",
       "      <td>verse</td>\n",
       "      <td>47388</td>\n",
       "      <td>75473</td>\n",
       "    </tr>\n",
       "    <tr>\n",
       "      <th>10</th>\n",
       "      <td>Carole King</td>\n",
       "      <td>Tapestry</td>\n",
       "      <td>ItsTooLate</td>\n",
       "      <td>chorus</td>\n",
       "      <td>75473</td>\n",
       "      <td>94025</td>\n",
       "    </tr>\n",
       "    <tr>\n",
       "      <th>11</th>\n",
       "      <td>Carole King</td>\n",
       "      <td>Tapestry</td>\n",
       "      <td>ItsTooLate</td>\n",
       "      <td>verse</td>\n",
       "      <td>112300</td>\n",
       "      <td>148847</td>\n",
       "    </tr>\n",
       "  </tbody>\n",
       "</table>\n",
       "</div>"
      ],
      "text/plain": [
       "         Artist     Album        Song   Label   Start    Stop\n",
       "7   Carole King  Tapestry  ItsTooLate   verse       0   28735\n",
       "8   Carole King  Tapestry  ItsTooLate  chorus   28735   47388\n",
       "9   Carole King  Tapestry  ItsTooLate   verse   47388   75473\n",
       "10  Carole King  Tapestry  ItsTooLate  chorus   75473   94025\n",
       "11  Carole King  Tapestry  ItsTooLate   verse  112300  148847"
      ]
     },
     "execution_count": 12,
     "metadata": {},
     "output_type": "execute_result"
    }
   ],
   "source": [
    "#preview of dataset\n",
    "annotations.head()"
   ]
  },
  {
   "cell_type": "markdown",
   "metadata": {},
   "source": [
    "### Cutting up songs into annotations"
   ]
  },
  {
   "cell_type": "code",
   "execution_count": 13,
   "metadata": {},
   "outputs": [],
   "source": [
    "#1 verse and chorus per song:\n",
    "\n",
    "for song in annotations.Song.unique(): # For each song in the annotation file\n",
    "    try:\n",
    "        sound = AudioSegment.from_wav('../Trimmed/{}.wav'.format(song)) #Load the song with pydub\n",
    "        to_add = {'verse': True, 'chorus': True} # LUT for which segments do we still need to extract\n",
    "        # For each row in the annotations corresponding to the selected song:\n",
    "        for _,row in annotations[annotations.Song==song].reset_index().iterrows(): \n",
    "            segment = sound[row.Start:row.Stop] # cut out the segment from the song\n",
    "            kind = row.Label #'verse' or 'chorus'\n",
    "            if(to_add[kind]): # if we still need this segment (chorus / verse)\n",
    "                segment.export(\"../segments/{}_{}.mp3\".format(song, kind), format=\"mp3\") #export segment\n",
    "                to_add[kind] = False #No longer need to extract this label\n",
    "    except:\n",
    "        print('failed on song: '+song) #Song is in annotations, but not in audio directory."
   ]
  },
  {
   "cell_type": "code",
   "execution_count": 14,
   "metadata": {},
   "outputs": [],
   "source": [
    "#All choruses and verses from each song:\n",
    "#(NOT USED)\n",
    "\n",
    "\n",
    "'''\n",
    "for song in annotations.Song.unique():\n",
    "    try:\n",
    "        sound = AudioSegment.from_mp3('../Music/{}.mp3'.format(song)) #get the corresponding song\n",
    "        verse_i = 1\n",
    "        chorus_i = 1\n",
    "        for _,row in annotations[annotations.Song==song].reset_index().iterrows():\n",
    "            segment = sound[row.Start:row.Stop]\n",
    "            segment.export(\"../annotations/{}_{}_{}.mp3\".format\\\n",
    "                           (song, row.Label, verse_i if row.Label=='verse' else chorus_i), format=\"mp3\")\n",
    "            if row.Label=='verse':\n",
    "                verse_i+=1\n",
    "            else:\n",
    "                chorus_i+=1\n",
    "    except:\n",
    "        print('failed on song: '+song)\n",
    "''';"
   ]
  }
 ],
 "metadata": {
  "kernelspec": {
   "display_name": "Python 3",
   "language": "python",
   "name": "python3"
  },
  "language_info": {
   "codemirror_mode": {
    "name": "ipython",
    "version": 3
   },
   "file_extension": ".py",
   "mimetype": "text/x-python",
   "name": "python",
   "nbconvert_exporter": "python",
   "pygments_lexer": "ipython3",
   "version": "3.7.0"
  }
 },
 "nbformat": 4,
 "nbformat_minor": 2
}
