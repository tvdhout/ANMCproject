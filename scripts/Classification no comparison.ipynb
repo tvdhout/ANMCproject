{
 "cells": [
  {
   "cell_type": "markdown",
   "metadata": {},
   "source": [
    "### Imports"
   ]
  },
  {
   "cell_type": "code",
   "execution_count": 1,
   "metadata": {
    "colab": {},
    "colab_type": "code",
    "id": "M-8c2hLVgf6Z"
   },
   "outputs": [],
   "source": [
    "import librosa  # need pip install librosa\n",
    "import time\n",
    "import pickle\n",
    "import numpy as np\n",
    "from random import random, shuffle\n",
    "import random\n",
    "import matplotlib.pyplot as plt\n",
    "import matplotlib\n",
    "matplotlib.rcParams.update({'font.size' : 12.5})  # for confusion plot\n",
    "from pydub import AudioSegment\n",
    "import pprint\n",
    "import os\n",
    "from sklearn.ensemble import RandomForestClassifier, GradientBoostingClassifier\n",
    "from sklearn.metrics import accuracy_score, confusion_matrix, cohen_kappa_score\n",
    "from sklearn.model_selection import train_test_split, cross_val_score, cross_val_predict\n",
    "from sklearn.feature_selection import SelectKBest, SelectPercentile, f_classif\n",
    "\n",
    "pp = pprint.PrettyPrinter(indent = 4)"
   ]
  },
  {
   "cell_type": "markdown",
   "metadata": {},
   "source": [
    "### Loading features + combining"
   ]
  },
  {
   "cell_type": "code",
   "execution_count": 2,
   "metadata": {},
   "outputs": [],
   "source": [
    "with open('../chorus_features.p', 'rb') as f:\n",
    "    c_features = pickle.load(f)\n",
    "with open('../verse_features.p', 'rb') as f:\n",
    "    v_features = pickle.load(f)\n",
    "with open('../feature_names.p', 'rb') as f:\n",
    "    feature_names = pickle.load(f)   \n",
    "with open('../song_names.p', 'rb') as f:\n",
    "    song_names = pickle.load(f)"
   ]
  },
  {
   "cell_type": "code",
   "execution_count": 3,
   "metadata": {},
   "outputs": [],
   "source": [
    "def combine(c_features, v_features, song_names=song_names):\n",
    "    \"\"\"\n",
    "    combine chorus and verse features in one long list (random) with labels\n",
    "    \"\"\"\n",
    "    assert len(c_features)==len(v_features)==len(song_names)\n",
    "    seed = random.Random(random.randint(1,1000))  # Shuffle with seed to assure song names are still in order\n",
    "    \n",
    "    total = len(c_features)*2\n",
    "    random_list = [True]*int(np.floor(total/2))+[False]*int(np.ceil(total/2))\n",
    "    shuffle(random_list)\n",
    "    \n",
    "    seed.shuffle(c_features)\n",
    "    seed.shuffle(v_features)\n",
    "    c_features = list(c_features)\n",
    "    v_features = list(v_features)\n",
    "    \n",
    "    song_names_chorus = list(song_names)\n",
    "    song_names_verse = list(song_names)\n",
    "    seed.shuffle(song_names_chorus)\n",
    "    seed.shuffle(song_names_verse)\n",
    "    \n",
    "    combined = []\n",
    "    labels = []\n",
    "    names = []\n",
    "    for i in random_list:\n",
    "        if i:\n",
    "            combined.append(c_features.pop())\n",
    "            labels.append(0)\n",
    "            names.append(song_names_chorus.pop()+'_chorus')\n",
    "        else:\n",
    "            combined.append(v_features.pop())\n",
    "            labels.append(1)\n",
    "            names.append(song_names_verse.pop()+'_verse')\n",
    "\n",
    "#     print(list(zip(labels, names))[:15])        \n",
    "            \n",
    "    return combined, labels, names\n"
   ]
  },
  {
   "cell_type": "code",
   "execution_count": 4,
   "metadata": {},
   "outputs": [
    {
     "name": "stdout",
     "output_type": "stream",
     "text": [
      "Combining chorus and verse features\n",
      "(340, 168)\n"
     ]
    }
   ],
   "source": [
    "print('Combining chorus and verse features')\n",
    "\n",
    "features, labels, names = combine(c_features, v_features)\n",
    "# features = features[:len(features)//2]\n",
    "# labels = labels[:len(labels)//2]\n",
    "print(np.shape(features))"
   ]
  },
  {
   "cell_type": "markdown",
   "metadata": {},
   "source": [
    "##### Feature Selection"
   ]
  },
  {
   "cell_type": "code",
   "execution_count": 5,
   "metadata": {},
   "outputs": [],
   "source": [
    "feature_selector = SelectPercentile(f_classif, percentile=60)\n",
    "reduced_features = feature_selector.fit_transform(features, labels)"
   ]
  },
  {
   "cell_type": "markdown",
   "metadata": {},
   "source": [
    "##### Fix feature names vector with selected features"
   ]
  },
  {
   "cell_type": "code",
   "execution_count": 6,
   "metadata": {},
   "outputs": [],
   "source": [
    "feature_mask = feature_selector.get_support() #list of booleans for each feature (True: is included)\n",
    "reduced_feature_names = [] #list of reduced feature names\n",
    "\n",
    "for used, feature in zip(feature_mask, feature_names):\n",
    "    if used: #If feature is selected, add to new list of feature names\n",
    "        reduced_feature_names.append(feature)"
   ]
  },
  {
   "cell_type": "markdown",
   "metadata": {},
   "source": [
    "### Classification and evaluation\n",
    "#### K-fold Cross Validation:"
   ]
  },
  {
   "cell_type": "code",
   "execution_count": 7,
   "metadata": {},
   "outputs": [
    {
     "name": "stdout",
     "output_type": "stream",
     "text": [
      "Applying cross validation with 170 splits...\n",
      "Done!\n"
     ]
    }
   ],
   "source": [
    "n_splits = len(reduced_features)//2  # leave-2-out\n",
    "print('Applying cross validation with {} splits...'.format(n_splits))\n",
    "\n",
    "clf = RandomForestClassifier(n_estimators=300, max_depth=80) #Classifier\n",
    "predictions = cross_val_predict(clf, reduced_features, labels, cv=n_splits) \n",
    "print('Done!')"
   ]
  },
  {
   "cell_type": "code",
   "execution_count": 8,
   "metadata": {
    "scrolled": false
   },
   "outputs": [
    {
     "name": "stdout",
     "output_type": "stream",
     "text": [
      "accuracy: 91.47% (311)\n",
      "Misclassified: 8.53% (29)\n",
      "[   'AnotherOneBitesTheDust_verse',\n",
      "    'BillieJean_chorus',\n",
      "    'BillieJean_verse',\n",
      "    'ComeTogether_verse',\n",
      "    'DevilInHerHeart_chorus',\n",
      "    'DirtyDiana_verse',\n",
      "    'EleanorRigby_chorus',\n",
      "    'FriendsWillBeFriends_verse',\n",
      "    'GoldenSlumbers_verse',\n",
      "    'GotToBeThere_verse',\n",
      "    'Help_chorus',\n",
      "    'HomeAgain_verse',\n",
      "    'IAmTheWalrus_verse',\n",
      "    'IMeMine_verse',\n",
      "    'ItWontBeLong_verse',\n",
      "    'ItsOnlyLove_verse',\n",
      "    'MagicalMysteryTour_chorus',\n",
      "    'Money For Nothing_chorus',\n",
      "    'NoOneButYou_verse',\n",
      "    'OffTheWall_verse',\n",
      "    'PrincesOfTheUniverse_verse',\n",
      "    'SavoyTruffle_chorus',\n",
      "    'TheLoveYouSave_verse',\n",
      "    'Wait_verse',\n",
      "    'Walk Of Life_verse',\n",
      "    'WayOverYonder_verse',\n",
      "    'WhenIGetHome_chorus',\n",
      "    'WhoWantsToLiveForever_chorus',\n",
      "    'YouRockMyWorld_verse']\n"
     ]
    }
   ],
   "source": [
    "# Accuracy\n",
    "scores = predictions == labels\n",
    "accuracy = (sum(scores)/len(labels))*100\n",
    "print('accuracy: {:.2f}% ({})'.format(accuracy, sum(scores)))\n",
    "\n",
    "# Misclassification\n",
    "wrongs = [i for i, x in enumerate(scores) if not x]\n",
    "wrong_names = sorted([names[i] for i in wrongs])\n",
    "print('Misclassified: {:.2f}% ({})'.format(100-accuracy, len(wrongs)))\n",
    "pp.pprint(wrong_names)"
   ]
  },
  {
   "cell_type": "markdown",
   "metadata": {},
   "source": [
    "#### One fold train/test split test:"
   ]
  },
  {
   "cell_type": "code",
   "execution_count": 9,
   "metadata": {},
   "outputs": [],
   "source": [
    "random_state = random.randint(1,1000)"
   ]
  },
  {
   "cell_type": "code",
   "execution_count": 10,
   "metadata": {},
   "outputs": [],
   "source": [
    "X_train, X_test, y_train, y_test = train_test_split(reduced_features, labels, \\\n",
    "                                                    test_size=0.1, random_state=random_state)\n",
    "names_train, names_test,_,_ = train_test_split(names, np.arange(len(names)), \\\n",
    "                                               test_size=0.1, random_state=random_state)"
   ]
  },
  {
   "cell_type": "code",
   "execution_count": 11,
   "metadata": {},
   "outputs": [],
   "source": [
    "clf.fit(X_train, y_train)\n",
    "y_pred = clf.predict(X_test)\n",
    "accuracy = accuracy_score(y_true=y_test, y_pred=y_pred)\n",
    "kappa = cohen_kappa_score(y1=y_test, y2=y_pred)"
   ]
  },
  {
   "cell_type": "code",
   "execution_count": 12,
   "metadata": {},
   "outputs": [
    {
     "name": "stdout",
     "output_type": "stream",
     "text": [
      "Accuracy: 0.8529411764705882\n",
      "Cohen's kappa: 0.7058823529411764\n"
     ]
    }
   ],
   "source": [
    "print('Accuracy: {}\\nCohen\\'s kappa: {}'.format(accuracy, kappa))"
   ]
  },
  {
   "cell_type": "code",
   "execution_count": 13,
   "metadata": {},
   "outputs": [
    {
     "name": "stdout",
     "output_type": "stream",
     "text": [
      "Misclassified: ['Help_chorus', 'ShesLeavingHome_chorus', 'WannaBeStartinSomethin_chorus', 'TheLoveYouSave_verse', 'StrawberryFieldsForever_chorus']\n"
     ]
    }
   ],
   "source": [
    "wrongs = [i for i, x in enumerate(y_pred == y_test) if not x]\n",
    "wrong_names = [names_test[i] for i in wrongs]\n",
    "print('Misclassified:',wrong_names)"
   ]
  },
  {
   "cell_type": "markdown",
   "metadata": {},
   "source": [
    "### Feature importance"
   ]
  },
  {
   "cell_type": "code",
   "execution_count": 14,
   "metadata": {},
   "outputs": [],
   "source": [
    "#Tuples of feature names and their importance, sorted from low to high\n",
    "features_with_importance = sorted(list(zip(reduced_feature_names, clf.feature_importances_)),\\\n",
    "                                  key=lambda x:x[1])"
   ]
  },
  {
   "cell_type": "code",
   "execution_count": 15,
   "metadata": {},
   "outputs": [
    {
     "data": {
      "image/png": "[encoded data removed]",
      "text/plain": [
       "<Figure size 360x288 with 1 Axes>"
      ]
     },
     "metadata": {
      "needs_background": "light"
     },
     "output_type": "display_data"
    }
   ],
   "source": [
    "#Number of features to plot\n",
    "show_n_features = 10\n",
    "assert show_n_features > 0\n",
    "\n",
    "#Plot importances\n",
    "plt.figure(figsize=(5,np.ceil(show_n_features/2.5)))\n",
    "plt.title(\"Feature importances\")\n",
    "plt.barh([x[0] for x in features_with_importance[-show_n_features:]],\n",
    "         [x[1] for x in features_with_importance[-show_n_features:]],\n",
    "         color=\"#800000\")\n",
    "plt.grid(axis='x')\n",
    "plt.show()"
   ]
  },
  {
   "cell_type": "code",
   "execution_count": 16,
   "metadata": {},
   "outputs": [],
   "source": [
    "# Plotting method for confusion matrices\n",
    "# From sklearn example code snippets\n",
    "\n",
    "def plot_confusion_matrix(y_true, y_pred, classes, normalize=False, title=None, cmap=plt.cm.Reds):\n",
    "    cm = confusion_matrix(y_true, y_pred)\n",
    "    if normalize:\n",
    "        cm = cm.astype('float') / cm.sum(axis=1)[:, np.newaxis]\n",
    "\n",
    "    fig, ax = plt.subplots()\n",
    "    im = ax.imshow(cm, interpolation='nearest', cmap=cmap);\n",
    "    ax.figure.colorbar(im, ax=ax)\n",
    "    # We want to show all ticks...\n",
    "    ax.set(xticks=np.arange(cm.shape[1]),\n",
    "           yticks=np.arange(cm.shape[0]),\n",
    "           # ... and label them with the respective list entries\n",
    "           xticklabels=classes, yticklabels=classes,\n",
    "           title='{} confusion matrix'.format('Normalized' if normalize else ''),\n",
    "           ylabel='True label',\n",
    "           xlabel='Predicted label');\n",
    "\n",
    "    # Rotate the tick labels and set their alignment.\n",
    "    plt.setp(ax.get_xticklabels(), rotation=45, ha=\"right\",\n",
    "             rotation_mode=\"anchor\");\n",
    "\n",
    "    # Loop over data dimensions and create text annotations.\n",
    "    fmt = '.2f' if normalize else 'd'\n",
    "    thresh = cm.max() / 2.\n",
    "    for i in range(cm.shape[0]):\n",
    "        for j in range(cm.shape[1]):\n",
    "            ax.text(j, i, format(cm[i, j], fmt),\n",
    "                    ha=\"center\", va=\"center\",\n",
    "                    color=\"white\" if cm[i, j] > thresh else \"black\", size=20)\n",
    "    fig.tight_layout()\n",
    "    return ax\n"
   ]
  },
  {
   "cell_type": "code",
   "execution_count": 17,
   "metadata": {},
   "outputs": [
    {
     "data": {
      "image/png": "[encoded data removed]",
      "text/plain": [
       "<Figure size 432x288 with 2 Axes>"
      ]
     },
     "metadata": {
      "needs_background": "light"
     },
     "output_type": "display_data"
    }
   ],
   "source": [
    "plot_confusion_matrix(labels, predictions, classes=['Chorus', 'Verse'], normalize=True);"
   ]
  }
 ],
 "metadata": {
  "colab": {
   "name": "Features.ipynb",
   "provenance": [],
   "version": "0.3.2"
  },
  "kernelspec": {
   "display_name": "Python 3",
   "language": "python",
   "name": "python3"
  },
  "language_info": {
   "codemirror_mode": {
    "name": "ipython",
    "version": 3
   },
   "file_extension": ".py",
   "mimetype": "text/x-python",
   "name": "python",
   "nbconvert_exporter": "python",
   "pygments_lexer": "ipython3",
   "version": "3.7.0"
  }
 },
 "nbformat": 4,
 "nbformat_minor": 1
}
